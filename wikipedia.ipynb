{
 "cells": [
  {
   "cell_type": "code",
   "execution_count": 1,
   "id": "0dc7dae6",
   "metadata": {},
   "outputs": [
    {
     "data": {
      "text/plain": [
       "0"
      ]
     },
     "execution_count": 1,
     "metadata": {},
     "output_type": "execute_result"
    }
   ],
   "source": [
    "from bs4 import BeautifulSoup\n",
    "import requests\n",
    "import pandas as pd\n",
    "import os\n",
    "from os import system\n",
    "\n",
    "system('cls')"
   ]
  },
  {
   "cell_type": "code",
   "execution_count": 2,
   "id": "ff7492fc",
   "metadata": {},
   "outputs": [],
   "source": [
    "url = \"https://en.wikipedia.org/wiki/List_of_largest_companies_in_the_United_States_by_revenue\"\n",
    "\n",
    "response = requests.get(url)\n",
    "\n",
    "# print(response.status_code)\n",
    "\n",
    "soup = BeautifulSoup(response.text, 'html.parser')"
   ]
  },
  {
   "cell_type": "code",
   "execution_count": 3,
   "id": "e30a2587",
   "metadata": {},
   "outputs": [
    {
     "data": {
      "text/html": [
       "<div>\n",
       "<style scoped>\n",
       "    .dataframe tbody tr th:only-of-type {\n",
       "        vertical-align: middle;\n",
       "    }\n",
       "\n",
       "    .dataframe tbody tr th {\n",
       "        vertical-align: top;\n",
       "    }\n",
       "\n",
       "    .dataframe thead th {\n",
       "        text-align: right;\n",
       "    }\n",
       "</style>\n",
       "<table border=\"1\" class=\"dataframe\">\n",
       "  <thead>\n",
       "    <tr style=\"text-align: right;\">\n",
       "      <th></th>\n",
       "      <th>Rank</th>\n",
       "      <th>Name</th>\n",
       "      <th>Headquarters</th>\n",
       "      <th>Revenue</th>\n",
       "      <th>Operating income</th>\n",
       "      <th>Net income</th>\n",
       "      <th>Total assets</th>\n",
       "      <th>Total equity</th>\n",
       "      <th>Industry</th>\n",
       "    </tr>\n",
       "  </thead>\n",
       "  <tbody>\n",
       "  </tbody>\n",
       "</table>\n",
       "</div>"
      ],
      "text/plain": [
       "Empty DataFrame\n",
       "Columns: [Rank, Name, Headquarters, Revenue, Operating income, Net income, Total assets, Total equity, Industry]\n",
       "Index: []"
      ]
     },
     "execution_count": 3,
     "metadata": {},
     "output_type": "execute_result"
    }
   ],
   "source": [
    "tables = soup.find_all('table', class_ = 'wikitable sortable')[0]\n",
    "\n",
    "# print(\"Total tables found:\", len(tables))\n",
    "# print(\"Table 0:\",tables)\n",
    "\n",
    "titles = [title.text.strip() for title in tables.find_all('th')]\n",
    "\n",
    "# print(\"Titles:\", titles)\n",
    "\n",
    "df = pd.DataFrame(columns = titles)\n",
    "df\n"
   ]
  },
  {
   "cell_type": "code",
   "execution_count": 4,
   "id": "5f4259a6",
   "metadata": {},
   "outputs": [
    {
     "data": {
      "text/html": [
       "<div>\n",
       "<style scoped>\n",
       "    .dataframe tbody tr th:only-of-type {\n",
       "        vertical-align: middle;\n",
       "    }\n",
       "\n",
       "    .dataframe tbody tr th {\n",
       "        vertical-align: top;\n",
       "    }\n",
       "\n",
       "    .dataframe thead th {\n",
       "        text-align: right;\n",
       "    }\n",
       "</style>\n",
       "<table border=\"1\" class=\"dataframe\">\n",
       "  <thead>\n",
       "    <tr style=\"text-align: right;\">\n",
       "      <th></th>\n",
       "      <th>Rank</th>\n",
       "      <th>Name</th>\n",
       "      <th>Headquarters</th>\n",
       "      <th>Revenue</th>\n",
       "      <th>Operating income</th>\n",
       "      <th>Net income</th>\n",
       "      <th>Total assets</th>\n",
       "      <th>Total equity</th>\n",
       "      <th>Industry</th>\n",
       "    </tr>\n",
       "  </thead>\n",
       "  <tbody>\n",
       "    <tr>\n",
       "      <th>0</th>\n",
       "      <td>1</td>\n",
       "      <td>Walmart</td>\n",
       "      <td>Bentonville, Arkansas</td>\n",
       "      <td>$680.99 billion (2025)</td>\n",
       "      <td>$29.348 billion (2025)</td>\n",
       "      <td>$19.436 billion (2025)</td>\n",
       "      <td>$260.82 billion (2025)</td>\n",
       "      <td>$97.421 billion (2025)</td>\n",
       "      <td>Retail</td>\n",
       "    </tr>\n",
       "    <tr>\n",
       "      <th>1</th>\n",
       "      <td>2</td>\n",
       "      <td>Amazon</td>\n",
       "      <td>Seattle, Washington</td>\n",
       "      <td>$637.9 billion (2024)</td>\n",
       "      <td>$68.59 billion (2024)</td>\n",
       "      <td>$59.25 billion (2024)</td>\n",
       "      <td>$624.9 billion (2024)</td>\n",
       "      <td>$285.9 billion (2024)</td>\n",
       "      <td>E-commerce, Cloud Computing</td>\n",
       "    </tr>\n",
       "    <tr>\n",
       "      <th>2</th>\n",
       "      <td>3</td>\n",
       "      <td>Apple</td>\n",
       "      <td>Cupertino, California</td>\n",
       "      <td>$391 billion (FY24)</td>\n",
       "      <td>$123 billion (FY24)</td>\n",
       "      <td>-$94 billion (FY24)</td>\n",
       "      <td>$365 billion (FY24)</td>\n",
       "      <td>-$57 billion (FY24)</td>\n",
       "      <td>Consumer Electronics, Technology</td>\n",
       "    </tr>\n",
       "    <tr>\n",
       "      <th>3</th>\n",
       "      <td>4</td>\n",
       "      <td>UnitedHealth Group</td>\n",
       "      <td>Minnetonka, Minnesota</td>\n",
       "      <td>$400.3 billion (2024)</td>\n",
       "      <td>-$32.29 billion (2024)</td>\n",
       "      <td>-$15.24 billion (2024)</td>\n",
       "      <td>$298.3 billion (2024)</td>\n",
       "      <td>$98.27 billion (2024)</td>\n",
       "      <td>Healthcare</td>\n",
       "    </tr>\n",
       "    <tr>\n",
       "      <th>4</th>\n",
       "      <td>5</td>\n",
       "      <td>Berkshire Hathaway</td>\n",
       "      <td>Omaha, Nebraska</td>\n",
       "      <td>$371.4 billion (2024)</td>\n",
       "      <td>-$110.4 billion (2024)</td>\n",
       "      <td>-$88.99 billion (2024)</td>\n",
       "      <td>$1.154 trillion (2024)</td>\n",
       "      <td>$651.7 billion (2024)</td>\n",
       "      <td>Conglomerate</td>\n",
       "    </tr>\n",
       "  </tbody>\n",
       "</table>\n",
       "</div>"
      ],
      "text/plain": [
       "  Rank                Name           Headquarters                 Revenue  \\\n",
       "0    1             Walmart  Bentonville, Arkansas  $680.99 billion (2025)   \n",
       "1    2              Amazon    Seattle, Washington   $637.9 billion (2024)   \n",
       "2    3               Apple  Cupertino, California     $391 billion (FY24)   \n",
       "3    4  UnitedHealth Group  Minnetonka, Minnesota   $400.3 billion (2024)   \n",
       "4    5  Berkshire Hathaway        Omaha, Nebraska   $371.4 billion (2024)   \n",
       "\n",
       "         Operating income              Net income            Total assets  \\\n",
       "0  $29.348 billion (2025)  $19.436 billion (2025)  $260.82 billion (2025)   \n",
       "1   $68.59 billion (2024)   $59.25 billion (2024)   $624.9 billion (2024)   \n",
       "2     $123 billion (FY24)     -$94 billion (FY24)     $365 billion (FY24)   \n",
       "3  -$32.29 billion (2024)  -$15.24 billion (2024)   $298.3 billion (2024)   \n",
       "4  -$110.4 billion (2024)  -$88.99 billion (2024)  $1.154 trillion (2024)   \n",
       "\n",
       "             Total equity                          Industry  \n",
       "0  $97.421 billion (2025)                            Retail  \n",
       "1   $285.9 billion (2024)       E-commerce, Cloud Computing  \n",
       "2     -$57 billion (FY24)  Consumer Electronics, Technology  \n",
       "3   $98.27 billion (2024)                        Healthcare  \n",
       "4   $651.7 billion (2024)                      Conglomerate  "
      ]
     },
     "execution_count": 4,
     "metadata": {},
     "output_type": "execute_result"
    }
   ],
   "source": [
    "row = tables.find_all('tr')\n",
    "for r in row[1:]:\n",
    "    data = r.find_all('td')\n",
    "    if len(data) == 0:\n",
    "        continue\n",
    "    data = [d.text.strip() for d in data]\n",
    "    df.loc[len(df)] = data\n",
    "df"
   ]
  }
 ],
 "metadata": {
  "kernelspec": {
   "display_name": "venv",
   "language": "python",
   "name": "python3"
  },
  "language_info": {
   "codemirror_mode": {
    "name": "ipython",
    "version": 3
   },
   "file_extension": ".py",
   "mimetype": "text/x-python",
   "name": "python",
   "nbconvert_exporter": "python",
   "pygments_lexer": "ipython3",
   "version": "3.11.6"
  }
 },
 "nbformat": 4,
 "nbformat_minor": 5
}
